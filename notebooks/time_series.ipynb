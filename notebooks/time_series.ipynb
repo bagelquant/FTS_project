{
 "cells": [
  {
   "metadata": {
    "ExecuteTime": {
     "end_time": "2025-04-27T14:19:33.200073Z",
     "start_time": "2025-04-27T14:19:33.096946Z"
    }
   },
   "cell_type": "code",
   "source": [
    "import numpy as np\n",
    "import pandas as pd\n",
    "import statsmodels.api as sm\n",
    "from statsmodels.api import OLS\n",
    "from statsmodels.regression.linear_model import RegressionResultsWrapper\n",
    "from arch import arch_model\n",
    "\n",
    "with open(\"../output/significant_alphas_list.txt\", \"r\") as f:\n",
    "    SIGNIFICANT_ALPHAS_LIST: list[str] = f.read().splitlines()\n",
    "\n",
    "# data\n",
    "test_ticker: str = \"BLDR\"\n",
    "\n",
    "test_returns: pd.Series = pd.read_csv(\"../output/stock_returns.csv\", index_col=0, parse_dates=True)[test_ticker].dropna()\n",
    "factor_returns: pd.DataFrame = pd.read_csv(\"../output/factor_returns.csv\", index_col=0, parse_dates=True).drop(columns=[\"rf\"])\n",
    "alphas: pd.DataFrame = pd.read_csv(f\"../output/alphas/{test_ticker}.csv\", index_col=0, parse_dates=True)[SIGNIFICANT_ALPHAS_LIST]\n",
    "\n",
    "# concat data to make sure they are aligned\n",
    "concat_data = pd.concat([test_returns, factor_returns, alphas], axis=1, join=\"inner\")\n",
    "test_returns = concat_data.iloc[:, 0]\n",
    "test_residuals = concat_data.iloc[:, 1]\n",
    "factor_returns = concat_data.iloc[:, 2:2 + len(factor_returns.columns)]\n",
    "alphas = concat_data.iloc[:, 2 + len(factor_returns.columns):]\n"
   ],
   "id": "196ad2f5f0079f9",
   "outputs": [],
   "execution_count": 9
  },
  {
   "cell_type": "markdown",
   "id": "042ed285",
   "metadata": {},
   "source": [
    "## Residual against alphas OLS\n",
    "\n",
    "- residuals: t\n",
    "- alphas: t-1"
   ]
  },
  {
   "metadata": {},
   "cell_type": "markdown",
   "source": [
    "## Find Best ARMA model\n",
    "\n",
    "loop p: 0-5  \n",
    "loop q: 0-5  \n",
    "    fit ARMA(p,q) to residuals  \n",
    "    save AIC, BIC, HQIC  \n",
    "end loop  \n",
    "\n",
    "select best model based on AIC, BIC, HQIC"
   ],
   "id": "634cd3c3dd90b6f6"
  },
  {
   "metadata": {
    "ExecuteTime": {
     "end_time": "2025-04-27T14:19:33.217105Z",
     "start_time": "2025-04-27T14:19:33.214096Z"
    }
   },
   "cell_type": "code",
   "source": [
    "# import ARMA\n",
    "from statsmodels.tsa.arima.model import ARIMA\n",
    "\n",
    "def get_p_q(y: pd.Series, X: pd.DataFrame) -> tuple[int, int]:\n",
    "    \"\"\"\n",
    "    Get p and q for GARCH model\n",
    "    \"\"\"\n",
    "    AICs = []\n",
    "    for p in range(1, 4):\n",
    "        for q in range(1, 4):\n",
    "            try:\n",
    "                model = ARIMA(y, order=(p, 0, q), exog=X)\n",
    "                model_fit = model.fit()\n",
    "                AICs.append((p, q, model_fit.aic))\n",
    "            except:\n",
    "                continue\n",
    "    # return the p and q with the lowest AIC\n",
    "    \n",
    "    p, q, _ = min(AICs, key=lambda x: x[2])\n",
    "    return p, q"
   ],
   "id": "25ed680fdcafcd8c",
   "outputs": [],
   "execution_count": 10
  },
  {
   "metadata": {
    "ExecuteTime": {
     "end_time": "2025-04-27T14:19:33.235518Z",
     "start_time": "2025-04-27T14:19:33.234080Z"
    }
   },
   "cell_type": "code",
   "source": "",
   "id": "7e23b3138e1e0cd3",
   "outputs": [],
   "execution_count": null
  }
 ],
 "metadata": {
  "kernelspec": {
   "display_name": "FTS",
   "language": "python",
   "name": "python3"
  },
  "language_info": {
   "codemirror_mode": {
    "name": "ipython",
    "version": 3
   },
   "file_extension": ".py",
   "mimetype": "text/x-python",
   "name": "python",
   "nbconvert_exporter": "python",
   "pygments_lexer": "ipython3",
   "version": "3.12.7"
  }
 },
 "nbformat": 4,
 "nbformat_minor": 5
}
