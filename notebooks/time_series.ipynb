{
 "cells": [
  {
   "cell_type": "code",
   "execution_count": null,
   "id": "1ffd3102",
   "metadata": {},
   "outputs": [],
   "source": [
    "import numpy as np\n",
    "import pandas as pd\n",
    "import statsmodels.api as sm\n",
    "from statsmodels.api import OLS\n",
    "from statsmodels.regression.linear_model import RegressionResultsWrapper\n",
    "from arch import arch_model\n",
    "\n",
    "with open(\"../data/significant_alphas_list.txt\", \"r\") as f:\n",
    "    SIGNIFICANT_ALPHAS_LIST: list[str] = f.read().splitlines()\n",
    "\n",
    "# data\n",
    "test_ticker: str = \"BLDR\"\n",
    "\n",
    "test_returns: pd.Series = pd.read_csv(\"../data/stock_returns.csv\", index_col=0, parse_dates=True)[test_ticker].dropna()\n",
    "factor_returns: pd.DataFrame = pd.read_csv(\"../data/factor_returns.csv\", index_col=0, parse_dates=True).drop(columns=[\"rf\"])\n",
    "alphas: pd.DataFrame = pd.read_csv(f\"../data/alphas_by_symbol/{test_ticker}.csv\", index_col=0, parse_dates=True)[SIGNIFICANT_ALPHAS_LIST]\n",
    "\n",
    "# concat data to make sure they are aligned\n",
    "concat_data = pd.concat([test_returns, factor_returns, alphas], axis=1, join=\"inner\")\n",
    "test_returns = concat_data.iloc[:, 0]\n",
    "test_residuals = concat_data.iloc[:, 1]\n",
    "factor_returns = concat_data.iloc[:, 2:2 + len(factor_returns.columns)]\n",
    "alphas = concat_data.iloc[:, 2 + len(factor_returns.columns):]\n"
   ]
  },
  {
   "cell_type": "markdown",
   "id": "042ed285",
   "metadata": {},
   "source": [
    "## Residual against alphas OLS\n",
    "\n",
    "- residuals: t\n",
    "- alphas: t-1"
   ]
  },
  {
   "cell_type": "code",
   "execution_count": 2,
   "id": "d2bc7ce7",
   "metadata": {},
   "outputs": [],
   "source": [
    "y = test_returns.shift(-1).dropna()\n",
    "X = alphas.loc[y.index].copy()\n",
    "\n",
    "# OLS\n",
    "model = OLS(y, X)\n",
    "model_fit = model.fit()\n",
    "\n",
    "# select alphas significant at 5% level\n",
    "significant_alphas = model_fit.pvalues[model_fit.pvalues < 0.05].index.tolist()\n",
    "X = X[significant_alphas]"
   ]
  },
  {
   "cell_type": "markdown",
   "id": "7787bcce",
   "metadata": {},
   "source": [
    "## Find Best ARMA model\n",
    "\n",
    "loop p: 0-5  \n",
    "loop q: 0-5  \n",
    "    fit ARMA(p,q) to residuals  \n",
    "    save AIC, BIC, HQIC  \n",
    "end loop  \n",
    "\n",
    "select best model based on AIC, BIC, HQIC"
   ]
  },
  {
   "cell_type": "code",
   "execution_count": 3,
   "id": "0c401f8e",
   "metadata": {},
   "outputs": [],
   "source": [
    "# import ARMA\n",
    "from statsmodels.tsa.arima.model import ARIMA\n",
    "\n",
    "def get_p_q(y: pd.Series, X: pd.DataFrame) -> tuple[int, int]:\n",
    "    \"\"\"\n",
    "    Get p and q for GARCH model\n",
    "    \"\"\"\n",
    "    AICs = []\n",
    "    for p in range(1, 4):\n",
    "        for q in range(1, 4):\n",
    "            try:\n",
    "                model = ARIMA(y, order=(p, 0, q), exog=X)\n",
    "                model_fit = model.fit()\n",
    "                AICs.append((p, q, model_fit.aic))\n",
    "            except:\n",
    "                continue\n",
    "    # return the p and q with the lowest AIC\n",
    "    \n",
    "    p, q, _ = min(AICs, key=lambda x: x[2])\n",
    "    return p, q"
   ]
  },
  {
   "cell_type": "code",
   "execution_count": 4,
   "id": "f24c583e",
   "metadata": {},
   "outputs": [
    {
     "name": "stderr",
     "output_type": "stream",
     "text": [
      "/opt/homebrew/Caskroom/miniconda/base/envs/FTS/lib/python3.12/site-packages/statsmodels/tsa/base/tsa_model.py:473: ValueWarning: A date index has been provided, but it has no associated frequency information and so will be ignored when e.g. forecasting.\n",
      "  self._init_dates(dates, freq)\n",
      "/opt/homebrew/Caskroom/miniconda/base/envs/FTS/lib/python3.12/site-packages/statsmodels/tsa/base/tsa_model.py:473: ValueWarning: A date index has been provided, but it has no associated frequency information and so will be ignored when e.g. forecasting.\n",
      "  self._init_dates(dates, freq)\n",
      "/opt/homebrew/Caskroom/miniconda/base/envs/FTS/lib/python3.12/site-packages/statsmodels/tsa/base/tsa_model.py:473: ValueWarning: A date index has been provided, but it has no associated frequency information and so will be ignored when e.g. forecasting.\n",
      "  self._init_dates(dates, freq)\n",
      "/opt/homebrew/Caskroom/miniconda/base/envs/FTS/lib/python3.12/site-packages/statsmodels/base/model.py:607: ConvergenceWarning: Maximum Likelihood optimization failed to converge. Check mle_retvals\n",
      "  warnings.warn(\"Maximum Likelihood optimization failed to \"\n",
      "/opt/homebrew/Caskroom/miniconda/base/envs/FTS/lib/python3.12/site-packages/statsmodels/tsa/base/tsa_model.py:473: ValueWarning: A date index has been provided, but it has no associated frequency information and so will be ignored when e.g. forecasting.\n",
      "  self._init_dates(dates, freq)\n",
      "/opt/homebrew/Caskroom/miniconda/base/envs/FTS/lib/python3.12/site-packages/statsmodels/tsa/base/tsa_model.py:473: ValueWarning: A date index has been provided, but it has no associated frequency information and so will be ignored when e.g. forecasting.\n",
      "  self._init_dates(dates, freq)\n",
      "/opt/homebrew/Caskroom/miniconda/base/envs/FTS/lib/python3.12/site-packages/statsmodels/tsa/base/tsa_model.py:473: ValueWarning: A date index has been provided, but it has no associated frequency information and so will be ignored when e.g. forecasting.\n",
      "  self._init_dates(dates, freq)\n",
      "/opt/homebrew/Caskroom/miniconda/base/envs/FTS/lib/python3.12/site-packages/statsmodels/base/model.py:607: ConvergenceWarning: Maximum Likelihood optimization failed to converge. Check mle_retvals\n",
      "  warnings.warn(\"Maximum Likelihood optimization failed to \"\n",
      "/opt/homebrew/Caskroom/miniconda/base/envs/FTS/lib/python3.12/site-packages/statsmodels/tsa/base/tsa_model.py:473: ValueWarning: A date index has been provided, but it has no associated frequency information and so will be ignored when e.g. forecasting.\n",
      "  self._init_dates(dates, freq)\n",
      "/opt/homebrew/Caskroom/miniconda/base/envs/FTS/lib/python3.12/site-packages/statsmodels/tsa/base/tsa_model.py:473: ValueWarning: A date index has been provided, but it has no associated frequency information and so will be ignored when e.g. forecasting.\n",
      "  self._init_dates(dates, freq)\n",
      "/opt/homebrew/Caskroom/miniconda/base/envs/FTS/lib/python3.12/site-packages/statsmodels/tsa/base/tsa_model.py:473: ValueWarning: A date index has been provided, but it has no associated frequency information and so will be ignored when e.g. forecasting.\n",
      "  self._init_dates(dates, freq)\n",
      "/opt/homebrew/Caskroom/miniconda/base/envs/FTS/lib/python3.12/site-packages/statsmodels/base/model.py:607: ConvergenceWarning: Maximum Likelihood optimization failed to converge. Check mle_retvals\n",
      "  warnings.warn(\"Maximum Likelihood optimization failed to \"\n",
      "/opt/homebrew/Caskroom/miniconda/base/envs/FTS/lib/python3.12/site-packages/statsmodels/tsa/base/tsa_model.py:473: ValueWarning: A date index has been provided, but it has no associated frequency information and so will be ignored when e.g. forecasting.\n",
      "  self._init_dates(dates, freq)\n",
      "/opt/homebrew/Caskroom/miniconda/base/envs/FTS/lib/python3.12/site-packages/statsmodels/tsa/base/tsa_model.py:473: ValueWarning: A date index has been provided, but it has no associated frequency information and so will be ignored when e.g. forecasting.\n",
      "  self._init_dates(dates, freq)\n",
      "/opt/homebrew/Caskroom/miniconda/base/envs/FTS/lib/python3.12/site-packages/statsmodels/tsa/base/tsa_model.py:473: ValueWarning: A date index has been provided, but it has no associated frequency information and so will be ignored when e.g. forecasting.\n",
      "  self._init_dates(dates, freq)\n",
      "/opt/homebrew/Caskroom/miniconda/base/envs/FTS/lib/python3.12/site-packages/statsmodels/tsa/statespace/sarimax.py:966: UserWarning: Non-stationary starting autoregressive parameters found. Using zeros as starting parameters.\n",
      "  warn('Non-stationary starting autoregressive parameters'\n",
      "/opt/homebrew/Caskroom/miniconda/base/envs/FTS/lib/python3.12/site-packages/statsmodels/tsa/statespace/sarimax.py:978: UserWarning: Non-invertible starting MA parameters found. Using zeros as starting parameters.\n",
      "  warn('Non-invertible starting MA parameters found.'\n",
      "/opt/homebrew/Caskroom/miniconda/base/envs/FTS/lib/python3.12/site-packages/statsmodels/base/model.py:607: ConvergenceWarning: Maximum Likelihood optimization failed to converge. Check mle_retvals\n",
      "  warnings.warn(\"Maximum Likelihood optimization failed to \"\n",
      "/opt/homebrew/Caskroom/miniconda/base/envs/FTS/lib/python3.12/site-packages/statsmodels/tsa/base/tsa_model.py:473: ValueWarning: A date index has been provided, but it has no associated frequency information and so will be ignored when e.g. forecasting.\n",
      "  self._init_dates(dates, freq)\n",
      "/opt/homebrew/Caskroom/miniconda/base/envs/FTS/lib/python3.12/site-packages/statsmodels/tsa/base/tsa_model.py:473: ValueWarning: A date index has been provided, but it has no associated frequency information and so will be ignored when e.g. forecasting.\n",
      "  self._init_dates(dates, freq)\n",
      "/opt/homebrew/Caskroom/miniconda/base/envs/FTS/lib/python3.12/site-packages/statsmodels/tsa/base/tsa_model.py:473: ValueWarning: A date index has been provided, but it has no associated frequency information and so will be ignored when e.g. forecasting.\n",
      "  self._init_dates(dates, freq)\n",
      "/opt/homebrew/Caskroom/miniconda/base/envs/FTS/lib/python3.12/site-packages/statsmodels/base/model.py:607: ConvergenceWarning: Maximum Likelihood optimization failed to converge. Check mle_retvals\n",
      "  warnings.warn(\"Maximum Likelihood optimization failed to \"\n",
      "/opt/homebrew/Caskroom/miniconda/base/envs/FTS/lib/python3.12/site-packages/statsmodels/tsa/base/tsa_model.py:473: ValueWarning: A date index has been provided, but it has no associated frequency information and so will be ignored when e.g. forecasting.\n",
      "  self._init_dates(dates, freq)\n",
      "/opt/homebrew/Caskroom/miniconda/base/envs/FTS/lib/python3.12/site-packages/statsmodels/tsa/base/tsa_model.py:473: ValueWarning: A date index has been provided, but it has no associated frequency information and so will be ignored when e.g. forecasting.\n",
      "  self._init_dates(dates, freq)\n",
      "/opt/homebrew/Caskroom/miniconda/base/envs/FTS/lib/python3.12/site-packages/statsmodels/tsa/base/tsa_model.py:473: ValueWarning: A date index has been provided, but it has no associated frequency information and so will be ignored when e.g. forecasting.\n",
      "  self._init_dates(dates, freq)\n",
      "/opt/homebrew/Caskroom/miniconda/base/envs/FTS/lib/python3.12/site-packages/statsmodels/base/model.py:607: ConvergenceWarning: Maximum Likelihood optimization failed to converge. Check mle_retvals\n",
      "  warnings.warn(\"Maximum Likelihood optimization failed to \"\n",
      "/opt/homebrew/Caskroom/miniconda/base/envs/FTS/lib/python3.12/site-packages/statsmodels/tsa/base/tsa_model.py:473: ValueWarning: A date index has been provided, but it has no associated frequency information and so will be ignored when e.g. forecasting.\n",
      "  self._init_dates(dates, freq)\n",
      "/opt/homebrew/Caskroom/miniconda/base/envs/FTS/lib/python3.12/site-packages/statsmodels/tsa/base/tsa_model.py:473: ValueWarning: A date index has been provided, but it has no associated frequency information and so will be ignored when e.g. forecasting.\n",
      "  self._init_dates(dates, freq)\n",
      "/opt/homebrew/Caskroom/miniconda/base/envs/FTS/lib/python3.12/site-packages/statsmodels/tsa/base/tsa_model.py:473: ValueWarning: A date index has been provided, but it has no associated frequency information and so will be ignored when e.g. forecasting.\n",
      "  self._init_dates(dates, freq)\n",
      "/opt/homebrew/Caskroom/miniconda/base/envs/FTS/lib/python3.12/site-packages/statsmodels/base/model.py:607: ConvergenceWarning: Maximum Likelihood optimization failed to converge. Check mle_retvals\n",
      "  warnings.warn(\"Maximum Likelihood optimization failed to \"\n",
      "/opt/homebrew/Caskroom/miniconda/base/envs/FTS/lib/python3.12/site-packages/statsmodels/tsa/base/tsa_model.py:473: ValueWarning: A date index has been provided, but it has no associated frequency information and so will be ignored when e.g. forecasting.\n",
      "  self._init_dates(dates, freq)\n",
      "/opt/homebrew/Caskroom/miniconda/base/envs/FTS/lib/python3.12/site-packages/statsmodels/tsa/base/tsa_model.py:473: ValueWarning: A date index has been provided, but it has no associated frequency information and so will be ignored when e.g. forecasting.\n",
      "  self._init_dates(dates, freq)\n",
      "/opt/homebrew/Caskroom/miniconda/base/envs/FTS/lib/python3.12/site-packages/statsmodels/tsa/base/tsa_model.py:473: ValueWarning: A date index has been provided, but it has no associated frequency information and so will be ignored when e.g. forecasting.\n",
      "  self._init_dates(dates, freq)\n",
      "/opt/homebrew/Caskroom/miniconda/base/envs/FTS/lib/python3.12/site-packages/statsmodels/base/model.py:607: ConvergenceWarning: Maximum Likelihood optimization failed to converge. Check mle_retvals\n",
      "  warnings.warn(\"Maximum Likelihood optimization failed to \"\n",
      "/opt/homebrew/Caskroom/miniconda/base/envs/FTS/lib/python3.12/site-packages/statsmodels/tsa/base/tsa_model.py:473: ValueWarning: A date index has been provided, but it has no associated frequency information and so will be ignored when e.g. forecasting.\n",
      "  self._init_dates(dates, freq)\n",
      "/opt/homebrew/Caskroom/miniconda/base/envs/FTS/lib/python3.12/site-packages/statsmodels/tsa/base/tsa_model.py:473: ValueWarning: A date index has been provided, but it has no associated frequency information and so will be ignored when e.g. forecasting.\n",
      "  self._init_dates(dates, freq)\n",
      "/opt/homebrew/Caskroom/miniconda/base/envs/FTS/lib/python3.12/site-packages/statsmodels/tsa/base/tsa_model.py:473: ValueWarning: A date index has been provided, but it has no associated frequency information and so will be ignored when e.g. forecasting.\n",
      "  self._init_dates(dates, freq)\n",
      "/opt/homebrew/Caskroom/miniconda/base/envs/FTS/lib/python3.12/site-packages/statsmodels/base/model.py:607: ConvergenceWarning: Maximum Likelihood optimization failed to converge. Check mle_retvals\n",
      "  warnings.warn(\"Maximum Likelihood optimization failed to \"\n"
     ]
    }
   ],
   "source": [
    "p, q = get_p_q(y, X)"
   ]
  },
  {
   "cell_type": "code",
   "execution_count": 5,
   "id": "b558b858",
   "metadata": {},
   "outputs": [
    {
     "data": {
      "text/plain": [
       "(1, 1)"
      ]
     },
     "execution_count": 5,
     "metadata": {},
     "output_type": "execute_result"
    }
   ],
   "source": [
    "p, q"
   ]
  },
  {
   "cell_type": "code",
   "execution_count": 6,
   "id": "99ec7743",
   "metadata": {},
   "outputs": [
    {
     "name": "stderr",
     "output_type": "stream",
     "text": [
      "/opt/homebrew/Caskroom/miniconda/base/envs/FTS/lib/python3.12/site-packages/statsmodels/tsa/base/tsa_model.py:473: ValueWarning: A date index has been provided, but it has no associated frequency information and so will be ignored when e.g. forecasting.\n",
      "  self._init_dates(dates, freq)\n",
      "/opt/homebrew/Caskroom/miniconda/base/envs/FTS/lib/python3.12/site-packages/statsmodels/tsa/base/tsa_model.py:473: ValueWarning: A date index has been provided, but it has no associated frequency information and so will be ignored when e.g. forecasting.\n",
      "  self._init_dates(dates, freq)\n",
      "/opt/homebrew/Caskroom/miniconda/base/envs/FTS/lib/python3.12/site-packages/statsmodels/tsa/base/tsa_model.py:473: ValueWarning: A date index has been provided, but it has no associated frequency information and so will be ignored when e.g. forecasting.\n",
      "  self._init_dates(dates, freq)\n",
      "/opt/homebrew/Caskroom/miniconda/base/envs/FTS/lib/python3.12/site-packages/statsmodels/base/model.py:607: ConvergenceWarning: Maximum Likelihood optimization failed to converge. Check mle_retvals\n",
      "  warnings.warn(\"Maximum Likelihood optimization failed to \"\n"
     ]
    },
    {
     "data": {
      "text/html": [
       "<table class=\"simpletable\">\n",
       "<caption>SARIMAX Results</caption>\n",
       "<tr>\n",
       "  <th>Dep. Variable:</th>         <td>BLDR</td>       <th>  No. Observations:  </th>    <td>251</td>   \n",
       "</tr>\n",
       "<tr>\n",
       "  <th>Model:</th>            <td>ARIMA(1, 0, 1)</td>  <th>  Log Likelihood     </th>  <td>554.460</td> \n",
       "</tr>\n",
       "<tr>\n",
       "  <th>Date:</th>            <td>Wed, 23 Apr 2025</td> <th>  AIC                </th> <td>-1094.920</td>\n",
       "</tr>\n",
       "<tr>\n",
       "  <th>Time:</th>                <td>17:29:38</td>     <th>  BIC                </th> <td>-1070.242</td>\n",
       "</tr>\n",
       "<tr>\n",
       "  <th>Sample:</th>                  <td>0</td>        <th>  HQIC               </th> <td>-1084.989</td>\n",
       "</tr>\n",
       "<tr>\n",
       "  <th></th>                      <td> - 251</td>      <th>                     </th>     <td> </td>    \n",
       "</tr>\n",
       "<tr>\n",
       "  <th>Covariance Type:</th>        <td>opg</td>       <th>                     </th>     <td> </td>    \n",
       "</tr>\n",
       "</table>\n",
       "<table class=\"simpletable\">\n",
       "<tr>\n",
       "      <td></td>        <th>coef</th>     <th>std err</th>      <th>z</th>      <th>P>|z|</th>  <th>[0.025</th>    <th>0.975]</th>  \n",
       "</tr>\n",
       "<tr>\n",
       "  <th>const</th>    <td>    0.0039</td> <td>    0.005</td> <td>    0.837</td> <td> 0.403</td> <td>   -0.005</td> <td>    0.013</td>\n",
       "</tr>\n",
       "<tr>\n",
       "  <th>alpha017</th> <td>   -0.0214</td> <td>    0.011</td> <td>   -1.883</td> <td> 0.060</td> <td>   -0.044</td> <td>    0.001</td>\n",
       "</tr>\n",
       "<tr>\n",
       "  <th>alpha034</th> <td>   -0.0055</td> <td>    0.007</td> <td>   -0.734</td> <td> 0.463</td> <td>   -0.020</td> <td>    0.009</td>\n",
       "</tr>\n",
       "<tr>\n",
       "  <th>alpha035</th> <td>-2.109e-06</td> <td> 7.13e-07</td> <td>   -2.958</td> <td> 0.003</td> <td>-3.51e-06</td> <td>-7.12e-07</td>\n",
       "</tr>\n",
       "<tr>\n",
       "  <th>ar.L1</th>    <td>   -0.0323</td> <td>    1.894</td> <td>   -0.017</td> <td> 0.986</td> <td>   -3.745</td> <td>    3.681</td>\n",
       "</tr>\n",
       "<tr>\n",
       "  <th>ma.L1</th>    <td>   -0.0099</td> <td>    1.889</td> <td>   -0.005</td> <td> 0.996</td> <td>   -3.713</td> <td>    3.693</td>\n",
       "</tr>\n",
       "<tr>\n",
       "  <th>sigma2</th>   <td>    0.0007</td> <td> 4.58e-05</td> <td>   15.481</td> <td> 0.000</td> <td>    0.001</td> <td>    0.001</td>\n",
       "</tr>\n",
       "</table>\n",
       "<table class=\"simpletable\">\n",
       "<tr>\n",
       "  <th>Ljung-Box (L1) (Q):</th>     <td>0.00</td> <th>  Jarque-Bera (JB):  </th> <td>396.70</td>\n",
       "</tr>\n",
       "<tr>\n",
       "  <th>Prob(Q):</th>                <td>0.97</td> <th>  Prob(JB):          </th>  <td>0.00</td> \n",
       "</tr>\n",
       "<tr>\n",
       "  <th>Heteroskedasticity (H):</th> <td>1.30</td> <th>  Skew:              </th>  <td>-0.72</td>\n",
       "</tr>\n",
       "<tr>\n",
       "  <th>Prob(H) (two-sided):</th>    <td>0.23</td> <th>  Kurtosis:          </th>  <td>8.99</td> \n",
       "</tr>\n",
       "</table><br/><br/>Warnings:<br/>[1] Covariance matrix calculated using the outer product of gradients (complex-step)."
      ],
      "text/latex": [
       "\\begin{center}\n",
       "\\begin{tabular}{lclc}\n",
       "\\toprule\n",
       "\\textbf{Dep. Variable:}          &       BLDR       & \\textbf{  No. Observations:  } &    251      \\\\\n",
       "\\textbf{Model:}                  &  ARIMA(1, 0, 1)  & \\textbf{  Log Likelihood     } &  554.460    \\\\\n",
       "\\textbf{Date:}                   & Wed, 23 Apr 2025 & \\textbf{  AIC                } & -1094.920   \\\\\n",
       "\\textbf{Time:}                   &     17:29:38     & \\textbf{  BIC                } & -1070.242   \\\\\n",
       "\\textbf{Sample:}                 &        0         & \\textbf{  HQIC               } & -1084.989   \\\\\n",
       "\\textbf{}                        &       - 251      & \\textbf{                     } &             \\\\\n",
       "\\textbf{Covariance Type:}        &       opg        & \\textbf{                     } &             \\\\\n",
       "\\bottomrule\n",
       "\\end{tabular}\n",
       "\\begin{tabular}{lcccccc}\n",
       "                  & \\textbf{coef} & \\textbf{std err} & \\textbf{z} & \\textbf{P$> |$z$|$} & \\textbf{[0.025} & \\textbf{0.975]}  \\\\\n",
       "\\midrule\n",
       "\\textbf{const}    &       0.0039  &        0.005     &     0.837  &         0.403        &       -0.005    &        0.013     \\\\\n",
       "\\textbf{alpha017} &      -0.0214  &        0.011     &    -1.883  &         0.060        &       -0.044    &        0.001     \\\\\n",
       "\\textbf{alpha034} &      -0.0055  &        0.007     &    -0.734  &         0.463        &       -0.020    &        0.009     \\\\\n",
       "\\textbf{alpha035} &   -2.109e-06  &     7.13e-07     &    -2.958  &         0.003        &    -3.51e-06    &    -7.12e-07     \\\\\n",
       "\\textbf{ar.L1}    &      -0.0323  &        1.894     &    -0.017  &         0.986        &       -3.745    &        3.681     \\\\\n",
       "\\textbf{ma.L1}    &      -0.0099  &        1.889     &    -0.005  &         0.996        &       -3.713    &        3.693     \\\\\n",
       "\\textbf{sigma2}   &       0.0007  &     4.58e-05     &    15.481  &         0.000        &        0.001    &        0.001     \\\\\n",
       "\\bottomrule\n",
       "\\end{tabular}\n",
       "\\begin{tabular}{lclc}\n",
       "\\textbf{Ljung-Box (L1) (Q):}     & 0.00 & \\textbf{  Jarque-Bera (JB):  } & 396.70  \\\\\n",
       "\\textbf{Prob(Q):}                & 0.97 & \\textbf{  Prob(JB):          } &  0.00   \\\\\n",
       "\\textbf{Heteroskedasticity (H):} & 1.30 & \\textbf{  Skew:              } & -0.72   \\\\\n",
       "\\textbf{Prob(H) (two-sided):}    & 0.23 & \\textbf{  Kurtosis:          } &  8.99   \\\\\n",
       "\\bottomrule\n",
       "\\end{tabular}\n",
       "%\\caption{SARIMAX Results}\n",
       "\\end{center}\n",
       "\n",
       "Warnings: \\newline\n",
       " [1] Covariance matrix calculated using the outer product of gradients (complex-step)."
      ],
      "text/plain": [
       "<class 'statsmodels.iolib.summary.Summary'>\n",
       "\"\"\"\n",
       "                               SARIMAX Results                                \n",
       "==============================================================================\n",
       "Dep. Variable:                   BLDR   No. Observations:                  251\n",
       "Model:                 ARIMA(1, 0, 1)   Log Likelihood                 554.460\n",
       "Date:                Wed, 23 Apr 2025   AIC                          -1094.920\n",
       "Time:                        17:29:38   BIC                          -1070.242\n",
       "Sample:                             0   HQIC                         -1084.989\n",
       "                                - 251                                         \n",
       "Covariance Type:                  opg                                         \n",
       "==============================================================================\n",
       "                 coef    std err          z      P>|z|      [0.025      0.975]\n",
       "------------------------------------------------------------------------------\n",
       "const          0.0039      0.005      0.837      0.403      -0.005       0.013\n",
       "alpha017      -0.0214      0.011     -1.883      0.060      -0.044       0.001\n",
       "alpha034      -0.0055      0.007     -0.734      0.463      -0.020       0.009\n",
       "alpha035   -2.109e-06   7.13e-07     -2.958      0.003   -3.51e-06   -7.12e-07\n",
       "ar.L1         -0.0323      1.894     -0.017      0.986      -3.745       3.681\n",
       "ma.L1         -0.0099      1.889     -0.005      0.996      -3.713       3.693\n",
       "sigma2         0.0007   4.58e-05     15.481      0.000       0.001       0.001\n",
       "===================================================================================\n",
       "Ljung-Box (L1) (Q):                   0.00   Jarque-Bera (JB):               396.70\n",
       "Prob(Q):                              0.97   Prob(JB):                         0.00\n",
       "Heteroskedasticity (H):               1.30   Skew:                            -0.72\n",
       "Prob(H) (two-sided):                  0.23   Kurtosis:                         8.99\n",
       "===================================================================================\n",
       "\n",
       "Warnings:\n",
       "[1] Covariance matrix calculated using the outer product of gradients (complex-step).\n",
       "\"\"\""
      ]
     },
     "execution_count": 6,
     "metadata": {},
     "output_type": "execute_result"
    }
   ],
   "source": [
    "model = ARIMA(y, order=(p, 0, q), exog=X)\n",
    "model_fit = model.fit()\n",
    "model_fit.summary()"
   ]
  },
  {
   "cell_type": "code",
   "execution_count": 11,
   "id": "65fcde25",
   "metadata": {},
   "outputs": [
    {
     "name": "stderr",
     "output_type": "stream",
     "text": [
      "/opt/homebrew/Caskroom/miniconda/base/envs/FTS/lib/python3.12/site-packages/statsmodels/tsa/base/tsa_model.py:837: ValueWarning: No supported index is available. Prediction results will be given with an integer index beginning at `start`.\n",
      "  return get_prediction_index(\n",
      "/opt/homebrew/Caskroom/miniconda/base/envs/FTS/lib/python3.12/site-packages/statsmodels/tsa/base/tsa_model.py:837: FutureWarning: No supported index is available. In the next version, calling this method in a model without a supported index will result in an exception.\n",
      "  return get_prediction_index(\n"
     ]
    },
    {
     "data": {
      "text/plain": [
       "251    0.000411\n",
       "dtype: float64"
      ]
     },
     "execution_count": 11,
     "metadata": {},
     "output_type": "execute_result"
    }
   ],
   "source": [
    "# make predictions\n",
    "periods = 1\n",
    "predictions = model_fit.forecast(steps=periods, exog=alphas[significant_alphas].iloc[-periods:])\n",
    "predictions\n"
   ]
  },
  {
   "cell_type": "code",
   "execution_count": 7,
   "id": "733bde8a",
   "metadata": {},
   "outputs": [
    {
     "data": {
      "image/png": "[encoded data removed]",
      "text/plain": [
       "<Figure size 640x480 with 1 Axes>"
      ]
     },
     "execution_count": 7,
     "metadata": {},
     "output_type": "execute_result"
    },
    {
     "data": {
      "image/png": "[encoded data removed]",
      "text/plain": [
       "<Figure size 640x480 with 1 Axes>"
      ]
     },
     "metadata": {},
     "output_type": "display_data"
    },
    {
     "data": {
      "image/png": "[encoded data removed]",
      "text/plain": [
       "<Figure size 640x480 with 1 Axes>"
      ]
     },
     "metadata": {},
     "output_type": "display_data"
    }
   ],
   "source": [
    "# PACF and ACF \n",
    "from statsmodels.graphics.tsaplots import plot_acf, plot_pacf\n",
    "import matplotlib.pyplot as plt\n",
    "from statsmodels.tsa.stattools import adfuller\n",
    "\n",
    "# plot ACF and PACF\n",
    "\n",
    "plot_acf(y, lags=20)\n",
    "plot_pacf(y, lags=20)"
   ]
  },
  {
   "cell_type": "code",
   "execution_count": null,
   "id": "9e3668bd",
   "metadata": {},
   "outputs": [],
   "source": []
  }
 ],
 "metadata": {
  "kernelspec": {
   "display_name": "FTS",
   "language": "python",
   "name": "python3"
  },
  "language_info": {
   "codemirror_mode": {
    "name": "ipython",
    "version": 3
   },
   "file_extension": ".py",
   "mimetype": "text/x-python",
   "name": "python",
   "nbconvert_exporter": "python",
   "pygments_lexer": "ipython3",
   "version": "3.12.7"
  }
 },
 "nbformat": 4,
 "nbformat_minor": 5
}
