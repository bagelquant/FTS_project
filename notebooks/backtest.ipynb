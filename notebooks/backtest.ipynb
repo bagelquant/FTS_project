{
 "cells": [
  {
   "cell_type": "code",
   "execution_count": 68,
   "id": "57c18f68",
   "metadata": {},
   "outputs": [],
   "source": [
    "import pandas as pd\n",
    "import numpy as np\n",
    "from tqdm.notebook import trange, tqdm\n",
    "import glob\n",
    "import os\n",
    "import matplotlib.pyplot as plt"
   ]
  },
  {
   "cell_type": "code",
   "execution_count": 77,
   "id": "a93184e9",
   "metadata": {},
   "outputs": [],
   "source": [
    "def backtest_with_benchmark(weights: pd.DataFrame,\n",
    "                            returns_df: pd.DataFrame,\n",
    "                            weights_benchmark: pd.DataFrame,\n",
    "                            cost_rate: float = 0.001,\n",
    "                            rf: float = 0.0):\n",
    "    \"\"\"\n",
    "    Backtest a strategy against a benchmark, including transaction costs.\n",
    "    \n",
    "    Parameters\n",
    "    ----------\n",
    "    weights : pd.DataFrame\n",
    "        Daily target weights for the strategy.\n",
    "    returns_df : pd.DataFrame\n",
    "        Daily returns DataFrame.\n",
    "    weights_benchmark : pd.DataFrame\n",
    "        Daily target weights for the benchmark.\n",
    "    cost_rate : float\n",
    "        Proportional transaction cost per unit turnover.\n",
    "    rf : float\n",
    "        Annual risk-free rate for Sharpe ratio calculation.\n",
    "        \n",
    "    Returns\n",
    "    -------\n",
    "    results : dict\n",
    "        Contains:\n",
    "            - net_returns_strategy, cumulative_strategy, metrics_strategy\n",
    "            - net_returns_benchmark, cumulative_benchmark, metrics_benchmark\n",
    "    \"\"\"\n",
    "    # Strategy raw returns\n",
    "    strat_raw = (weights * returns_df).sum(axis=1)\n",
    "    # Strategy turnover & costs\n",
    "    strat_turn = weights.diff().abs().sum(axis=1)\n",
    "    strat_turn.iloc[0] = weights.iloc[0].abs().sum()\n",
    "    strat_costs = strat_turn * cost_rate\n",
    "    strat_net = strat_raw - strat_costs\n",
    "    strat_cum = (1 + strat_net).cumprod()\n",
    "    \n",
    "    # Benchmark raw returns\n",
    "    bench_raw = (weights_benchmark * returns_df).sum(axis=1)\n",
    "    # Benchmark turnover & costs\n",
    "    bench_turn = weights_benchmark.diff().abs().sum(axis=1)\n",
    "    bench_turn.iloc[0] = weights_benchmark.iloc[0].abs().sum()\n",
    "    bench_costs = bench_turn * cost_rate\n",
    "    bench_net = bench_raw - bench_costs\n",
    "    bench_cum = (1 + bench_net).cumprod()\n",
    "    \n",
    "    def compute_metrics(net_ret, cum_ret):\n",
    "        n = net_ret.shape[0]\n",
    "        total = cum_ret.iloc[-1]\n",
    "        ann_ret = total ** (252 / n) - 1\n",
    "        ann_vol = net_ret.std() * np.sqrt(252)\n",
    "        sharpe = (ann_ret - rf) / ann_vol if ann_vol != 0 else np.nan\n",
    "        dd = cum_ret / cum_ret.cummax() - 1\n",
    "        max_dd = dd.min()\n",
    "        return {\n",
    "            'annual_return': ann_ret,\n",
    "            'annual_volatility': ann_vol,\n",
    "            'sharpe_ratio': sharpe,\n",
    "            'max_drawdown': max_dd\n",
    "        }\n",
    "    \n",
    "    metrics_strat = compute_metrics(strat_net, strat_cum)\n",
    "    metrics_bench = compute_metrics(bench_net, bench_cum)\n",
    "    \n",
    "    # Plot both cumulative returns on same chart\n",
    "    plt.figure()\n",
    "    strat_cum.plot(label='Strategy')\n",
    "    bench_cum.plot(label='Benchmark')\n",
    "    plt.title('Cumulative Returns: Strategy vs Benchmark')\n",
    "    plt.xlabel('Date')\n",
    "    plt.ylabel('Cumulative Return')\n",
    "    plt.legend()\n",
    "    plt.grid(True)\n",
    "    plt.show()\n",
    "    \n",
    "    return {\n",
    "        'net_returns_strategy': strat_net,\n",
    "        'cumulative_strategy': strat_cum,\n",
    "        'metrics_strategy': metrics_strat,\n",
    "        'net_returns_benchmark': bench_net,\n",
    "        'cumulative_benchmark': bench_cum,\n",
    "        'metrics_benchmark': metrics_bench\n",
    "    }\n",
    "\n",
    "# 调用示例：\n",
    "# results = backtest_with_benchmark(weights, returns_df, weights_benchmark, cost_rate=0.001)\n",
    "# print(\"Strategy Metrics:\", results['metrics_strategy'])\n",
    "# print(\"Benchmark Metrics:\", results['metrics_benchmark'])\n"
   ]
  },
  {
   "cell_type": "code",
   "execution_count": 59,
   "id": "4e180959",
   "metadata": {},
   "outputs": [],
   "source": [
    "# Returns\n",
    "csv_files = glob.glob(\"../data/raw/*.csv\")\n",
    "dfs = {}\n",
    "for file in csv_files:\n",
    "    symbol = os.path.splitext(os.path.basename(file))[0]\n",
    "    if symbol in ['BF.B','BRK.B','CTLT']:\n",
    "        continue\n",
    "    df = pd.read_csv(file, index_col=0 )\n",
    "\n",
    "    df = df[~df.index.duplicated(keep='first')]\n",
    "    num_cols = [\"open\", \"high\", \"low\", \"close\", \"vol\", \"pct_change\", \"vwap\"]\n",
    "    df[num_cols] = df[num_cols].apply(pd.to_numeric, errors='coerce')\n",
    "    df.sort_index(inplace=True)\n",
    "    df = df.ffill().bfill()\n",
    "    df['return'] = df['pct_change'] / 100.0\n",
    "    dfs[symbol] = df"
   ]
  },
  {
   "cell_type": "code",
   "execution_count": 60,
   "id": "f787924c",
   "metadata": {},
   "outputs": [],
   "source": [
    "# expected returns\n",
    "csv_files = glob.glob(\"../data/predictions/expected_returns/*.csv\")\n",
    "dfs_return = []\n",
    "for file in csv_files:\n",
    "    df = pd.read_csv(file, index_col=0)\n",
    "    df = df[~df.index.duplicated(keep='first')]\n",
    "    df.sort_index(inplace=True)\n",
    "    df = df.ffill().bfill()\n",
    "    dfs_return.append(df)"
   ]
  },
  {
   "cell_type": "code",
   "execution_count": 61,
   "id": "3b245235",
   "metadata": {},
   "outputs": [],
   "source": [
    "# volatilities\n",
    "csv_files = glob.glob(\"../data/predictions/volatilities/*.csv\")\n",
    "dfs_volatility = []\n",
    "for file in csv_files:\n",
    "    df = pd.read_csv(file, index_col=0)\n",
    "    df = df[~df.index.duplicated(keep='first')]\n",
    "    df.sort_index(inplace=True)\n",
    "    df = df.ffill().bfill()\n",
    "    dfs_volatility.append(df)"
   ]
  },
  {
   "cell_type": "code",
   "execution_count": 62,
   "id": "e0d8c05b",
   "metadata": {},
   "outputs": [],
   "source": [
    "returns_df = pd.DataFrame({sym: df['return'] for sym, df in dfs.items()})\n",
    "expected_returns = pd.concat(dfs_return, axis=0)\n",
    "expected_volatility = pd.concat(dfs_volatility, axis=0)\n"
   ]
  },
  {
   "cell_type": "code",
   "execution_count": 105,
   "id": "f785de43",
   "metadata": {},
   "outputs": [],
   "source": [
    "score_df = expected_returns / expected_volatility\n",
    "score_df = score_df.rolling(window=40).mean()"
   ]
  },
  {
   "cell_type": "code",
   "execution_count": 106,
   "id": "eda00db9",
   "metadata": {},
   "outputs": [],
   "source": [
    "score = score_df.iloc[0]\n",
    "score = score[score > 0].sort_values(ascending=True)"
   ]
  },
  {
   "cell_type": "code",
   "execution_count": 107,
   "id": "54ce0a4d",
   "metadata": {},
   "outputs": [
    {
     "data": {
      "text/plain": [
       "Series([], Name: 2015-02-02, dtype: float64)"
      ]
     },
     "execution_count": 107,
     "metadata": {},
     "output_type": "execute_result"
    }
   ],
   "source": [
    "score"
   ]
  },
  {
   "cell_type": "code",
   "execution_count": 108,
   "id": "4260db7d",
   "metadata": {},
   "outputs": [
    {
     "data": {
      "application/vnd.jupyter.widget-view+json": {
       "model_id": "44ff341d0fd34b198e1c2fe47f472bf7",
       "version_major": 2,
       "version_minor": 0
      },
      "text/plain": [
       "  0%|          | 0/2493 [00:00<?, ?it/s]"
      ]
     },
     "metadata": {},
     "output_type": "display_data"
    }
   ],
   "source": [
    "position = pd.DataFrame(index=score_df.index, columns=returns_df.columns)\n",
    "benchmark_position = position.copy()\n",
    "benchmark_position.loc[:, :] = 1 / len(benchmark_position.columns)\n",
    "for i in trange(len(score_df)):\n",
    "    score = score_df.iloc[i]\n",
    "    score = score[score > 0].sort_values(ascending=True)\n",
    "    weight = np.arange(1, len(score)+1) / np.sum(np.arange(1, len(score)+1))\n",
    "    position.iloc[i, :] = 0.0\n",
    "    if len(weight) > 0:\n",
    "        position.loc[score_df.index[i], score.index] = weight"
   ]
  },
  {
   "cell_type": "code",
   "execution_count": 109,
   "id": "3918df09",
   "metadata": {},
   "outputs": [],
   "source": [
    "returns_df = returns_df.loc[position.index, position.columns]"
   ]
  },
  {
   "cell_type": "code",
   "execution_count": 110,
   "id": "10e5ef14",
   "metadata": {},
   "outputs": [
    {
     "data": {
      "image/png": "[encoded data removed]",
      "text/plain": [
       "<Figure size 640x480 with 1 Axes>"
      ]
     },
     "metadata": {},
     "output_type": "display_data"
    },
    {
     "name": "stdout",
     "output_type": "stream",
     "text": [
      "{'net_returns_strategy': 2015-02-02         0.0\n",
      "2015-02-03         0.0\n",
      "2015-02-04         0.0\n",
      "2015-02-05         0.0\n",
      "2015-02-06         0.0\n",
      "                ...   \n",
      "2024-12-24    0.021011\n",
      "2024-12-26    0.005187\n",
      "2024-12-27   -0.018816\n",
      "2024-12-30    -0.01718\n",
      "2024-12-31   -0.022142\n",
      "Length: 2493, dtype: object, 'cumulative_strategy': 2015-02-02          1.0\n",
      "2015-02-03          1.0\n",
      "2015-02-04          1.0\n",
      "2015-02-05          1.0\n",
      "2015-02-06          1.0\n",
      "                ...    \n",
      "2024-12-24    10.110656\n",
      "2024-12-26    10.163103\n",
      "2024-12-27     9.971873\n",
      "2024-12-30     9.800553\n",
      "2024-12-31     9.583553\n",
      "Length: 2493, dtype: object, 'metrics_strategy': {'annual_return': 0.2566538966602756, 'annual_volatility': 0.3522882897682743, 'sharpe_ratio': 0.7285337154666582, 'max_drawdown': -0.5963620246070207}, 'net_returns_benchmark': 2015-02-02    0.007683\n",
      "2015-02-03    0.014253\n",
      "2015-02-04   -0.003466\n",
      "2015-02-05    0.010644\n",
      "2015-02-06   -0.004401\n",
      "                ...   \n",
      "2024-12-24    0.007834\n",
      "2024-12-26    0.001091\n",
      "2024-12-27    -0.00701\n",
      "2024-12-30   -0.009782\n",
      "2024-12-31    0.001707\n",
      "Length: 2493, dtype: object, 'cumulative_benchmark': 2015-02-02    1.007683\n",
      "2015-02-03    1.022046\n",
      "2015-02-04    1.018503\n",
      "2015-02-05    1.029344\n",
      "2015-02-06    1.024815\n",
      "                ...   \n",
      "2024-12-24    4.169654\n",
      "2024-12-26    4.174201\n",
      "2024-12-27    4.144941\n",
      "2024-12-30    4.104394\n",
      "2024-12-31    4.111399\n",
      "Length: 2493, dtype: object, 'metrics_benchmark': {'annual_return': 0.15362307413642506, 'annual_volatility': 0.18219108296444772, 'sharpe_ratio': 0.843197546426587, 'max_drawdown': -0.38151818002056637}}\n"
     ]
    }
   ],
   "source": [
    "results = backtest_with_benchmark(position, returns_df, benchmark_position, cost_rate=0.002)\n",
    "print(results)"
   ]
  },
  {
   "cell_type": "code",
   "execution_count": 111,
   "id": "97237ab0",
   "metadata": {},
   "outputs": [
    {
     "name": "stdout",
     "output_type": "stream",
     "text": [
      "Strategy Metrics: {'annual_return': 0.2566538966602756, 'annual_volatility': 0.3522882897682743, 'sharpe_ratio': 0.7285337154666582, 'max_drawdown': -0.5963620246070207}\n",
      "Benchmark Metrics: {'annual_return': 0.15362307413642506, 'annual_volatility': 0.18219108296444772, 'sharpe_ratio': 0.843197546426587, 'max_drawdown': -0.38151818002056637}\n"
     ]
    }
   ],
   "source": [
    "print(\"Strategy Metrics:\", results['metrics_strategy'])\n",
    "print(\"Benchmark Metrics:\", results['metrics_benchmark'])"
   ]
  }
 ],
 "metadata": {
  "kernelspec": {
   "display_name": "base",
   "language": "python",
   "name": "python3"
  },
  "language_info": {
   "codemirror_mode": {
    "name": "ipython",
    "version": 3
   },
   "file_extension": ".py",
   "mimetype": "text/x-python",
   "name": "python",
   "nbconvert_exporter": "python",
   "pygments_lexer": "ipython3",
   "version": "3.9.13"
  }
 },
 "nbformat": 4,
 "nbformat_minor": 5
}
